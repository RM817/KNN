{
 "cells": [
  {
   "cell_type": "code",
   "execution_count": 20,
   "metadata": {},
   "outputs": [
    {
     "data": {
      "text/plain": [
       "0"
      ]
     },
     "execution_count": 20,
     "metadata": {},
     "output_type": "execute_result"
    }
   ],
   "source": [
    "import numpy as np\n",
    "import pandas as pd\n",
    "import matplotlib.pyplot as plt\n",
    "import scipy\n",
    "%matplotlib inline\n",
    "import math\n",
    "\n",
    "music = pd.DataFrame()\n",
    "\n",
    "# Building the dataframe\n",
    "music['duration'] = [184, 134, 243, 186, 122, 197, 294, 382, 102, 264, \n",
    "                     205, 110, 307, 110, 397, 153, 190, 192, 210, 403,\n",
    "                     164, 198, 204, 253, 234, 190, 182, 401, 376, 102]\n",
    "music['loudness'] = [18, 34, 43, 36, 22, 9, 29, 22, 10, 24, \n",
    "                     20, 10, 17, 51, 7, 13, 19, 12, 21, 22,\n",
    "                     16, 18, 4, 23, 34, 19, 14, 11, 37, 42]\n",
    "\n",
    "music['jazz'] = [ 1, 0, 0, 0, 1, 1, 0, 1, 1, 0,\n",
    "                  0, 1, 1, 0, 1, 1, 0, 1, 1, 1,\n",
    "                  1, 1, 1, 1, 0, 0, 1, 1, 0, 0]\n",
    "\n",
    "\n",
    "# Test values from previous test\n",
    "testD = 24\n",
    "testL = 190\n",
    "\n",
    "n = 0\n",
    "dur_dist = []\n",
    "loud_dist = []\n",
    "for element in music['duration']:\n",
    "    dur_dist.append((element - testD)**2)\n",
    "for element in music['loudness']:\n",
    "    loud_dist.append((element - testL)**2)\n",
    "dist_list = []\n",
    "for valued in dur_dist:\n",
    "        dist = math.sqrt(valued + loud_dist[n])\n",
    "        dist_list.append(dist)\n",
    "        n+=1\n",
    "music['dist'] = dist_list\n",
    "music['dist']\n",
    "ind_val = music.dist.sort_values().index[0]\n",
    "music['jazz'][ind_val]\n",
    "\n",
    "# As we can see, the test matches with the NN test from earlier in the checkpoint"
   ]
  },
  {
   "cell_type": "code",
   "execution_count": null,
   "metadata": {},
   "outputs": [],
   "source": []
  }
 ],
 "metadata": {
  "kernelspec": {
   "display_name": "Python 3",
   "language": "python",
   "name": "python3"
  },
  "language_info": {
   "codemirror_mode": {
    "name": "ipython",
    "version": 3
   },
   "file_extension": ".py",
   "mimetype": "text/x-python",
   "name": "python",
   "nbconvert_exporter": "python",
   "pygments_lexer": "ipython3",
   "version": "3.7.3"
  }
 },
 "nbformat": 4,
 "nbformat_minor": 2
}
